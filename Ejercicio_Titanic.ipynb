{
  "nbformat": 4,
  "nbformat_minor": 0,
  "metadata": {
    "colab": {
      "provenance": []
    },
    "kernelspec": {
      "name": "python3",
      "display_name": "Python 3"
    },
    "gpuClass": "standard"
  },
  "cells": [
    {
      "cell_type": "markdown",
      "metadata": {
        "id": "SokvQ-3OsEL4"
      },
      "source": [
        "# ¿Que influyó en las muertes de pasajeros del Titanic?\n",
        " ¿La clase de pasaje? ¿La edad? ¿El costo del pasaje?"
      ]
    },
    {
      "cell_type": "markdown",
      "metadata": {
        "id": "l3A2XWchso3t"
      },
      "source": [
        "# Copie este notebook en su cuenta junto con los datos **titanic.csv** \n",
        "moodle de clase"
      ]
    },
    {
      "cell_type": "code",
      "metadata": {
        "id": "3SEr3GNp_h9U",
        "colab": {
          "base_uri": "https://localhost:8080/"
        },
        "outputId": "8243e8d4-e9b9-4c5c-9778-31dfbb642312"
      },
      "source": [
        "%cd  /Titanic "
      ],
      "execution_count": null,
      "outputs": [
        {
          "output_type": "stream",
          "name": "stdout",
          "text": [
            "/Titanic\n"
          ]
        }
      ]
    },
    {
      "cell_type": "markdown",
      "metadata": {
        "id": "l-er_x1ytSqz"
      },
      "source": [
        "## Utilice estas librerías"
      ]
    },
    {
      "cell_type": "code",
      "metadata": {
        "id": "CQdOcbm1_AHX"
      },
      "source": [
        "import pandas as pd\n",
        "import numpy as np\n",
        "from sklearn import tree\n",
        "from sklearn.tree import DecisionTreeClassifier\n",
        "from sklearn.tree import export_text\n",
        "import graphviz"
      ],
      "execution_count": null,
      "outputs": []
    },
    {
      "cell_type": "markdown",
      "metadata": {
        "id": "MJdFs5hZtjnT"
      },
      "source": [
        "## Lea el fichero de datos en un DataFrame de pandas **datos**"
      ]
    },
    {
      "cell_type": "code",
      "metadata": {
        "id": "eGY2VZzOATsD",
        "colab": {
          "base_uri": "https://localhost:8080/",
          "height": 372
        },
        "outputId": "aecd3334-5d8d-4e46-cc18-08bc9d08bf49"
      },
      "source": [
        "datos=pd.read_csv('Titanic-Dataset.csv')\n",
        "datos.head()"
      ],
      "execution_count": null,
      "outputs": [
        {
          "output_type": "execute_result",
          "data": {
            "text/plain": [
              "   PassengerId  Survived  Pclass  \\\n",
              "0            1         0       3   \n",
              "1            2         1       1   \n",
              "2            3         1       3   \n",
              "3            4         1       1   \n",
              "4            5         0       3   \n",
              "\n",
              "                                                Name     Sex   Age  SibSp  \\\n",
              "0                            Braund, Mr. Owen Harris    male  22.0      1   \n",
              "1  Cumings, Mrs. John Bradley (Florence Briggs Th...  female  38.0      1   \n",
              "2                             Heikkinen, Miss. Laina  female  26.0      0   \n",
              "3       Futrelle, Mrs. Jacques Heath (Lily May Peel)  female  35.0      1   \n",
              "4                           Allen, Mr. William Henry    male  35.0      0   \n",
              "\n",
              "   Parch            Ticket     Fare Cabin Embarked  \n",
              "0      0         A/5 21171   7.2500   NaN        S  \n",
              "1      0          PC 17599  71.2833   C85        C  \n",
              "2      0  STON/O2. 3101282   7.9250   NaN        S  \n",
              "3      0            113803  53.1000  C123        S  \n",
              "4      0            373450   8.0500   NaN        S  "
            ],
            "text/html": [
              "\n",
              "  <div id=\"df-eba587e2-100b-4ffd-91b6-f4469c2ed30c\">\n",
              "    <div class=\"colab-df-container\">\n",
              "      <div>\n",
              "<style scoped>\n",
              "    .dataframe tbody tr th:only-of-type {\n",
              "        vertical-align: middle;\n",
              "    }\n",
              "\n",
              "    .dataframe tbody tr th {\n",
              "        vertical-align: top;\n",
              "    }\n",
              "\n",
              "    .dataframe thead th {\n",
              "        text-align: right;\n",
              "    }\n",
              "</style>\n",
              "<table border=\"1\" class=\"dataframe\">\n",
              "  <thead>\n",
              "    <tr style=\"text-align: right;\">\n",
              "      <th></th>\n",
              "      <th>PassengerId</th>\n",
              "      <th>Survived</th>\n",
              "      <th>Pclass</th>\n",
              "      <th>Name</th>\n",
              "      <th>Sex</th>\n",
              "      <th>Age</th>\n",
              "      <th>SibSp</th>\n",
              "      <th>Parch</th>\n",
              "      <th>Ticket</th>\n",
              "      <th>Fare</th>\n",
              "      <th>Cabin</th>\n",
              "      <th>Embarked</th>\n",
              "    </tr>\n",
              "  </thead>\n",
              "  <tbody>\n",
              "    <tr>\n",
              "      <th>0</th>\n",
              "      <td>1</td>\n",
              "      <td>0</td>\n",
              "      <td>3</td>\n",
              "      <td>Braund, Mr. Owen Harris</td>\n",
              "      <td>male</td>\n",
              "      <td>22.0</td>\n",
              "      <td>1</td>\n",
              "      <td>0</td>\n",
              "      <td>A/5 21171</td>\n",
              "      <td>7.2500</td>\n",
              "      <td>NaN</td>\n",
              "      <td>S</td>\n",
              "    </tr>\n",
              "    <tr>\n",
              "      <th>1</th>\n",
              "      <td>2</td>\n",
              "      <td>1</td>\n",
              "      <td>1</td>\n",
              "      <td>Cumings, Mrs. John Bradley (Florence Briggs Th...</td>\n",
              "      <td>female</td>\n",
              "      <td>38.0</td>\n",
              "      <td>1</td>\n",
              "      <td>0</td>\n",
              "      <td>PC 17599</td>\n",
              "      <td>71.2833</td>\n",
              "      <td>C85</td>\n",
              "      <td>C</td>\n",
              "    </tr>\n",
              "    <tr>\n",
              "      <th>2</th>\n",
              "      <td>3</td>\n",
              "      <td>1</td>\n",
              "      <td>3</td>\n",
              "      <td>Heikkinen, Miss. Laina</td>\n",
              "      <td>female</td>\n",
              "      <td>26.0</td>\n",
              "      <td>0</td>\n",
              "      <td>0</td>\n",
              "      <td>STON/O2. 3101282</td>\n",
              "      <td>7.9250</td>\n",
              "      <td>NaN</td>\n",
              "      <td>S</td>\n",
              "    </tr>\n",
              "    <tr>\n",
              "      <th>3</th>\n",
              "      <td>4</td>\n",
              "      <td>1</td>\n",
              "      <td>1</td>\n",
              "      <td>Futrelle, Mrs. Jacques Heath (Lily May Peel)</td>\n",
              "      <td>female</td>\n",
              "      <td>35.0</td>\n",
              "      <td>1</td>\n",
              "      <td>0</td>\n",
              "      <td>113803</td>\n",
              "      <td>53.1000</td>\n",
              "      <td>C123</td>\n",
              "      <td>S</td>\n",
              "    </tr>\n",
              "    <tr>\n",
              "      <th>4</th>\n",
              "      <td>5</td>\n",
              "      <td>0</td>\n",
              "      <td>3</td>\n",
              "      <td>Allen, Mr. William Henry</td>\n",
              "      <td>male</td>\n",
              "      <td>35.0</td>\n",
              "      <td>0</td>\n",
              "      <td>0</td>\n",
              "      <td>373450</td>\n",
              "      <td>8.0500</td>\n",
              "      <td>NaN</td>\n",
              "      <td>S</td>\n",
              "    </tr>\n",
              "  </tbody>\n",
              "</table>\n",
              "</div>\n",
              "      <button class=\"colab-df-convert\" onclick=\"convertToInteractive('df-eba587e2-100b-4ffd-91b6-f4469c2ed30c')\"\n",
              "              title=\"Convert this dataframe to an interactive table.\"\n",
              "              style=\"display:none;\">\n",
              "        \n",
              "  <svg xmlns=\"http://www.w3.org/2000/svg\" height=\"24px\"viewBox=\"0 0 24 24\"\n",
              "       width=\"24px\">\n",
              "    <path d=\"M0 0h24v24H0V0z\" fill=\"none\"/>\n",
              "    <path d=\"M18.56 5.44l.94 2.06.94-2.06 2.06-.94-2.06-.94-.94-2.06-.94 2.06-2.06.94zm-11 1L8.5 8.5l.94-2.06 2.06-.94-2.06-.94L8.5 2.5l-.94 2.06-2.06.94zm10 10l.94 2.06.94-2.06 2.06-.94-2.06-.94-.94-2.06-.94 2.06-2.06.94z\"/><path d=\"M17.41 7.96l-1.37-1.37c-.4-.4-.92-.59-1.43-.59-.52 0-1.04.2-1.43.59L10.3 9.45l-7.72 7.72c-.78.78-.78 2.05 0 2.83L4 21.41c.39.39.9.59 1.41.59.51 0 1.02-.2 1.41-.59l7.78-7.78 2.81-2.81c.8-.78.8-2.07 0-2.86zM5.41 20L4 18.59l7.72-7.72 1.47 1.35L5.41 20z\"/>\n",
              "  </svg>\n",
              "      </button>\n",
              "      \n",
              "  <style>\n",
              "    .colab-df-container {\n",
              "      display:flex;\n",
              "      flex-wrap:wrap;\n",
              "      gap: 12px;\n",
              "    }\n",
              "\n",
              "    .colab-df-convert {\n",
              "      background-color: #E8F0FE;\n",
              "      border: none;\n",
              "      border-radius: 50%;\n",
              "      cursor: pointer;\n",
              "      display: none;\n",
              "      fill: #1967D2;\n",
              "      height: 32px;\n",
              "      padding: 0 0 0 0;\n",
              "      width: 32px;\n",
              "    }\n",
              "\n",
              "    .colab-df-convert:hover {\n",
              "      background-color: #E2EBFA;\n",
              "      box-shadow: 0px 1px 2px rgba(60, 64, 67, 0.3), 0px 1px 3px 1px rgba(60, 64, 67, 0.15);\n",
              "      fill: #174EA6;\n",
              "    }\n",
              "\n",
              "    [theme=dark] .colab-df-convert {\n",
              "      background-color: #3B4455;\n",
              "      fill: #D2E3FC;\n",
              "    }\n",
              "\n",
              "    [theme=dark] .colab-df-convert:hover {\n",
              "      background-color: #434B5C;\n",
              "      box-shadow: 0px 1px 3px 1px rgba(0, 0, 0, 0.15);\n",
              "      filter: drop-shadow(0px 1px 2px rgba(0, 0, 0, 0.3));\n",
              "      fill: #FFFFFF;\n",
              "    }\n",
              "  </style>\n",
              "\n",
              "      <script>\n",
              "        const buttonEl =\n",
              "          document.querySelector('#df-eba587e2-100b-4ffd-91b6-f4469c2ed30c button.colab-df-convert');\n",
              "        buttonEl.style.display =\n",
              "          google.colab.kernel.accessAllowed ? 'block' : 'none';\n",
              "\n",
              "        async function convertToInteractive(key) {\n",
              "          const element = document.querySelector('#df-eba587e2-100b-4ffd-91b6-f4469c2ed30c');\n",
              "          const dataTable =\n",
              "            await google.colab.kernel.invokeFunction('convertToInteractive',\n",
              "                                                     [key], {});\n",
              "          if (!dataTable) return;\n",
              "\n",
              "          const docLinkHtml = 'Like what you see? Visit the ' +\n",
              "            '<a target=\"_blank\" href=https://colab.research.google.com/notebooks/data_table.ipynb>data table notebook</a>'\n",
              "            + ' to learn more about interactive tables.';\n",
              "          element.innerHTML = '';\n",
              "          dataTable['output_type'] = 'display_data';\n",
              "          await google.colab.output.renderOutput(dataTable, element);\n",
              "          const docLink = document.createElement('div');\n",
              "          docLink.innerHTML = docLinkHtml;\n",
              "          element.appendChild(docLink);\n",
              "        }\n",
              "      </script>\n",
              "    </div>\n",
              "  </div>\n",
              "  "
            ]
          },
          "metadata": {},
          "execution_count": 4
        }
      ]
    },
    {
      "cell_type": "markdown",
      "metadata": {
        "id": "2E65IGRGtzWQ"
      },
      "source": [
        "## Investigue si hay datos erróneos o vacios con valor **Nan** y elimínelos"
      ]
    },
    {
      "cell_type": "code",
      "metadata": {
        "id": "ZHNqhdb2AiKk"
      },
      "source": [
        "X=datos[['Survived', 'Pclass','Age','Fare']].dropna()"
      ],
      "execution_count": null,
      "outputs": []
    },
    {
      "cell_type": "markdown",
      "metadata": {
        "id": "Sd_BVB7DuGK0"
      },
      "source": [
        "## Con los datos límpios cree el conjunto de datos de entrenamiento\n",
        "- **X** con las columnas 'Pclass','Age' y 'Fare'\n",
        "- **y** con la columna 'Survived'"
      ]
    },
    {
      "cell_type": "code",
      "metadata": {
        "id": "_6s3KsPRu3_M"
      },
      "source": [
        "y=X['Survived'] \n",
        "X=X.drop(['Survived'], axis=1) #quitamos la columna de los datos dependientes y así obtenemos los valores"
      ],
      "execution_count": null,
      "outputs": []
    },
    {
      "cell_type": "markdown",
      "metadata": {
        "id": "Gkl7D6ALvM2U"
      },
      "source": [
        "## Cree el árbol de clasificación **Ad**"
      ]
    },
    {
      "cell_type": "code",
      "metadata": {
        "id": "gqPAB36GBAAU"
      },
      "source": [
        "#from sklearn.tree import DecisionTreeClassifier   esto no hace falta porque ya lo hemos hecho arriba\n",
        "#from sklearn import tree      esto tampoco\n",
        "\n",
        "Ad=DecisionTreeClassifier(criterion='gini',max_depth=5) #Creamos el árbol de decisión, en esta librería siempre se crea el modelo y después se ajusta\n",
        "Ad=Ad.fit(X,y) #ajuste del modelo, aquí asignamos la x e y que hemos obtenido anteriormente"
      ],
      "execution_count": null,
      "outputs": []
    },
    {
      "cell_type": "markdown",
      "metadata": {
        "id": "LSstHtxyvwiU"
      },
      "source": [
        "## Muestre árbol obtenido en forma de texto."
      ]
    },
    {
      "cell_type": "code",
      "metadata": {
        "id": "SfcKqf_CwrSp"
      },
      "source": [
        "r = export_text(Ad, feature_names=list(X.columns)) \n",
        "print(r)"
      ],
      "execution_count": null,
      "outputs": []
    },
    {
      "cell_type": "markdown",
      "metadata": {
        "id": "ALl23aaTvgm3"
      },
      "source": [
        "## Exporte el árbol obtenido a un fichero **titanic.pdf**\n",
        "Utilice la libreria graphviz"
      ]
    },
    {
      "cell_type": "code",
      "metadata": {
        "id": "lbgWkRWT0sY6"
      },
      "source": [
        "dot_data = tree.export_graphiviz(Ad,out_file=None) #dentro de la librería, que el árbol creado se vuelva un grafo\n",
        "graph = graphviz.Source(dot_data) \n",
        "graph.render(\"Titanic\") #para pintarlo \"render\", debemos obtener un fichero pdf de titanic dentro de la carpeta. "
      ],
      "execution_count": null,
      "outputs": []
    },
    {
      "cell_type": "markdown",
      "metadata": {
        "id": "_JZCZYsIwAlP"
      },
      "source": [
        "## Muestre de forma enriquecida el árbol obtenido\n",
        "Utilice la libreria graphviz"
      ]
    },
    {
      "cell_type": "code",
      "metadata": {
        "id": "nesxEUls1PFr"
      },
      "source": [
        "\n",
        "dot_data = tree.export_graphviz(Ad,out_file=None,\n",
        "                                feature_names=X.columns, \n",
        "                                class_names=['0','1'],\n",
        "                                filled=True, rounded=True,\n",
        "                                special_characters = True)\n",
        "graph = graphviz.Source(dot_data)\n",
        "graph"
      ],
      "execution_count": null,
      "outputs": []
    },
    {
      "cell_type": "markdown",
      "metadata": {
        "id": "YNShCpe2xv3Y"
      },
      "source": [
        "## ¿Que característas son las más influyentes o decisivas?"
      ]
    },
    {
      "cell_type": "code",
      "metadata": {
        "id": "uVh7iayPx78J"
      },
      "source": [
        "l= list(zip(list(X.columns), Ad.feature_importances_)) #para hacer una lista de tuplas con sus características y la relevancia. \n",
        "print(l) #es interesante comprobarlo "
      ],
      "execution_count": null,
      "outputs": []
    },
    {
      "cell_type": "markdown",
      "metadata": {
        "id": "CgfWp0MWz1og"
      },
      "source": [
        "## Realiza alguna inferencia.\n",
        "Que propone para las filas 5 y 80 del Titanic.csv"
      ]
    },
    {
      "cell_type": "code",
      "metadata": {
        "id": "KtkKlHRM1fzI"
      },
      "source": [
        "X.iloc[[5,80]]#qué pasa para el individuo de la fila 5 a la 80"
      ],
      "execution_count": null,
      "outputs": []
    },
    {
      "cell_type": "code",
      "source": [
        "Ad.predict(X.iloc[[5,80]].values) #lo convertimos en un vector nunpi "
      ],
      "metadata": {
        "id": "J7RT70itNojq"
      },
      "execution_count": null,
      "outputs": []
    }
  ]
}